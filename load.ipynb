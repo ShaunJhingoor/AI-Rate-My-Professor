{
 "cells": [
  {
   "cell_type": "code",
   "execution_count": 7,
   "metadata": {},
   "outputs": [],
   "source": [
    "from dotenv import load_dotenv\n",
    "load_dotenv()\n",
    "import os \n",
    "from openai import OpenAI\n",
    "from pinecone import Pinecone, ServerlessSpec\n"
   ]
  },
  {
   "cell_type": "code",
   "execution_count": 5,
   "metadata": {},
   "outputs": [],
   "source": [
    "pc = Pinecone(api_key=os.getenv(\"PINECONE_API_KEY\"))\n",
    "pc.create_index(\n",
    "    name=\"shaun\",dimension=1536, metric=\"cosine\", spec=ServerlessSpec(cloud=\"aws\", region=\"us-east-1\")\n",
    ")"
   ]
  },
  {
   "cell_type": "code",
   "execution_count": 6,
   "metadata": {},
   "outputs": [
    {
     "data": {
      "text/plain": [
       "[{'professor': 'Dr. Jane Smith',\n",
       "  'subject': 'Calculus',\n",
       "  'stars': 4,\n",
       "  'review': 'Dr. Smith is very knowledgeable and makes complex topics easier to understand.'},\n",
       " {'professor': 'Professor John Doe',\n",
       "  'subject': 'Physics',\n",
       "  'stars': 3,\n",
       "  'review': 'Professor Doe has a deep understanding of the subject but sometimes goes too fast.'},\n",
       " {'professor': 'Dr. Emily Johnson',\n",
       "  'subject': 'Biology',\n",
       "  'stars': 5,\n",
       "  'review': 'Dr. Johnson is enthusiastic and makes the classes very engaging and informative.'},\n",
       " {'professor': 'Dr. Michael Brown',\n",
       "  'subject': 'Chemistry',\n",
       "  'stars': 2,\n",
       "  'review': \"Dr. Brown's lectures are hard to follow, and the exams are very difficult.\"},\n",
       " {'professor': 'Professor Sarah Lee',\n",
       "  'subject': 'Computer Science',\n",
       "  'stars': 4,\n",
       "  'review': 'Professor Lee is a great instructor with a lot of real-world experience.'},\n",
       " {'professor': 'Dr. Robert Wilson',\n",
       "  'subject': 'History',\n",
       "  'stars': 3,\n",
       "  'review': \"Dr. Wilson's lectures are informative, but the course materials are outdated.\"},\n",
       " {'professor': 'Dr. Karen Taylor',\n",
       "  'subject': 'Economics',\n",
       "  'stars': 5,\n",
       "  'review': 'Dr. Taylor presents complex theories in a very accessible manner and is very approachable.'},\n",
       " {'professor': 'Professor David Anderson',\n",
       "  'subject': 'Art History',\n",
       "  'stars': 4,\n",
       "  'review': 'Professor Anderson is passionate about art and provides great insights into historical contexts.'},\n",
       " {'professor': 'Dr. Laura Martinez',\n",
       "  'subject': 'Psychology',\n",
       "  'stars': 4,\n",
       "  'review': 'Dr. Martinez is very knowledgeable and provides helpful feedback on assignments.'},\n",
       " {'professor': 'Professor James Thomas',\n",
       "  'subject': 'Statistics',\n",
       "  'stars': 3,\n",
       "  'review': 'Professor Thomas explains the material well but tends to focus too much on theory.'},\n",
       " {'professor': 'Dr. Michelle Harris',\n",
       "  'subject': 'Philosophy',\n",
       "  'stars': 5,\n",
       "  'review': 'Dr. Harris encourages critical thinking and creates a stimulating class environment.'},\n",
       " {'professor': 'Professor Daniel Clark',\n",
       "  'subject': 'Political Science',\n",
       "  'stars': 2,\n",
       "  'review': \"Professor Clark's classes are often disorganized, and the grading is inconsistent.\"},\n",
       " {'professor': 'Dr. Lisa Lewis',\n",
       "  'subject': 'Mathematics',\n",
       "  'stars': 4,\n",
       "  'review': 'Dr. Lewis makes math interesting and provides plenty of practice problems.'},\n",
       " {'professor': 'Professor William Young',\n",
       "  'subject': 'Literature',\n",
       "  'stars': 5,\n",
       "  'review': 'Professor Young has a great passion for literature and provides excellent reading materials.'},\n",
       " {'professor': 'Dr. Olivia Scott',\n",
       "  'subject': 'Engineering',\n",
       "  'stars': 4,\n",
       "  'review': 'Dr. Scott is very thorough in her explanations and provides helpful real-world examples.'},\n",
       " {'professor': 'Professor Ethan Allen',\n",
       "  'subject': 'Sociology',\n",
       "  'stars': 3,\n",
       "  'review': 'Professor Allen covers the basics well but the class could benefit from more interactive discussions.'},\n",
       " {'professor': 'Dr. Sophia King',\n",
       "  'subject': 'Environmental Science',\n",
       "  'stars': 5,\n",
       "  'review': 'Dr. King is highly engaging and passionate about environmental issues.'},\n",
       " {'professor': 'Professor Alexander Lee',\n",
       "  'subject': 'Music',\n",
       "  'stars': 4,\n",
       "  'review': 'Professor Lee is very talented and provides a lot of practical insights into music theory.'},\n",
       " {'professor': 'Dr. Megan Green',\n",
       "  'subject': 'Business',\n",
       "  'stars': 3,\n",
       "  'review': \"Dr. Green's course is useful but the lectures could be more dynamic and less repetitive.\"},\n",
       " {'professor': 'Professor Benjamin White',\n",
       "  'subject': 'Theatre',\n",
       "  'stars': 4,\n",
       "  'review': 'Professor White is very creative and provides great feedback on performances.'},\n",
       " {'professor': 'Dr. Ava Adams',\n",
       "  'subject': 'Linguistics',\n",
       "  'stars': 5,\n",
       "  'review': 'Dr. Adams makes linguistics fascinating and is always willing to help students with their research.'}]"
      ]
     },
     "execution_count": 6,
     "metadata": {},
     "output_type": "execute_result"
    }
   ],
   "source": [
    "import json \n",
    "data = json.load(open(\"reviews.json\"))\n",
    "data['reviews']"
   ]
  },
  {
   "cell_type": "code",
   "execution_count": 10,
   "metadata": {},
   "outputs": [],
   "source": [
    "processed_data= []\n",
    "client = OpenAI()\n",
    "\n",
    "for review in data['reviews']:\n",
    "    response = client.embeddings.create(\n",
    "        input=review['review'],\n",
    "        model=\"text-embedding-3-small\",\n",
    "    )\n",
    "    embedding = response.data[0].embedding\n",
    "    processed_data.append({\n",
    "        \"values\": embedding,\n",
    "        \"id\": review[\"professor\"],\n",
    "        \"metadata\": {\n",
    "            \"review\": review[\"review\"],\n",
    "            \"subject\": review[\"subject\"],\n",
    "            \"stars\": review[\"stars\"]\n",
    "        }\n",
    "\n",
    "    })"
   ]
  },
  {
   "cell_type": "code",
   "execution_count": 4,
   "metadata": {},
   "outputs": [
    {
     "ename": "NameError",
     "evalue": "name 'processed_data' is not defined",
     "output_type": "error",
     "traceback": [
      "\u001b[0;31m---------------------------------------------------------------------------\u001b[0m",
      "\u001b[0;31mNameError\u001b[0m                                 Traceback (most recent call last)",
      "\u001b[1;32m/Users/Shaun/Desktop/AI-Rate-My-Professor/load.ipynb Cell 5\u001b[0m line \u001b[0;36m1\n\u001b[0;32m----> <a href='vscode-notebook-cell:/Users/Shaun/Desktop/AI-Rate-My-Professor/load.ipynb#W4sZmlsZQ%3D%3D?line=0'>1</a>\u001b[0m processed_data[\u001b[39m0\u001b[39m]\n",
      "\u001b[0;31mNameError\u001b[0m: name 'processed_data' is not defined"
     ]
    }
   ],
   "source": [
    "processed_data[0]"
   ]
  },
  {
   "cell_type": "code",
   "execution_count": 12,
   "metadata": {},
   "outputs": [
    {
     "data": {
      "text/plain": [
       "{'upserted_count': 21}"
      ]
     },
     "execution_count": 12,
     "metadata": {},
     "output_type": "execute_result"
    }
   ],
   "source": [
    "index = pc.Index('shaun')\n",
    "index.upsert(\n",
    "    vectors=processed_data,\n",
    "    namespace=\"ns1\"\n",
    ")"
   ]
  },
  {
   "cell_type": "code",
   "execution_count": 13,
   "metadata": {},
   "outputs": [
    {
     "data": {
      "text/plain": [
       "{'dimension': 1536,\n",
       " 'index_fullness': 0.0,\n",
       " 'namespaces': {'ns1': {'vector_count': 21}},\n",
       " 'total_vector_count': 21}"
      ]
     },
     "execution_count": 13,
     "metadata": {},
     "output_type": "execute_result"
    }
   ],
   "source": [
    "index.describe_index_stats()"
   ]
  }
 ],
 "metadata": {
  "kernelspec": {
   "display_name": "rag",
   "language": "python",
   "name": "python3"
  },
  "language_info": {
   "codemirror_mode": {
    "name": "ipython",
    "version": 3
   },
   "file_extension": ".py",
   "mimetype": "text/x-python",
   "name": "python",
   "nbconvert_exporter": "python",
   "pygments_lexer": "ipython3",
   "version": "3.10.14"
  }
 },
 "nbformat": 4,
 "nbformat_minor": 2
}
